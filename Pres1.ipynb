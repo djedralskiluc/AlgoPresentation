{
 "cells": [
  {
   "cell_type": "code",
   "execution_count": 1,
   "metadata": {},
   "outputs": [
    {
     "name": "stderr",
     "output_type": "stream",
     "text": [
      "C:\\Program Files (x86)\\Microsoft Visual Studio\\Shared\\Anaconda3_64\\lib\\site-packages\\sklearn\\cross_validation.py:41: DeprecationWarning: This module was deprecated in version 0.18 in favor of the model_selection module into which all the refactored classes and functions are moved. Also note that the interface of the new CV iterators are different from that of this module. This module will be removed in 0.20.\n",
      "  \"This module will be removed in 0.20.\", DeprecationWarning)\n"
     ]
    }
   ],
   "source": [
    "#Adaboost presentation based from https://github.com/jaimeps/adaboost-implementation\n",
    "#Input comparison of different models\n",
    "\n",
    "import pandas as pd\n",
    "import numpy as np\n",
    "from sklearn.tree import DecisionTreeClassifier\n",
    "from sklearn.cross_validation import train_test_split\n",
    "from sklearn.datasets import make_hastie_10_2\n",
    "from sklearn.datasets import make_gaussian_quantiles\n",
    "from sklearn import svm, metrics\n",
    "import matplotlib.pyplot as plt\n"
   ]
  },
  {
   "cell_type": "code",
   "execution_count": 2,
   "metadata": {},
   "outputs": [],
   "source": [
    "def get_error_rate(pred, Y):\n",
    "    return sum(pred != Y) / float(len(Y))\n",
    "def print_error_rate(err):\n",
    "    print ('Error rate: Training: %.4f - Test: %.4f' % err)"
   ]
  },
  {
   "cell_type": "code",
   "execution_count": 3,
   "metadata": {},
   "outputs": [],
   "source": [
    "def generic_clf(Y_train, X_train, Y_test, X_test, clf):\n",
    "    clf.fit(X_train,Y_train)\n",
    "    pred_train = clf.predict(X_train)\n",
    "    pred_test = clf.predict(X_test)\n",
    "    return get_error_rate(pred_train, Y_train), \\\n",
    "           get_error_rate(pred_test, Y_test)"
   ]
  },
  {
   "cell_type": "code",
   "execution_count": 4,
   "metadata": {},
   "outputs": [],
   "source": [
    "\"\"\" ADABOOST IMPLEMENTATION =================================================\"\"\"\n",
    "def adaboost_clf(Y_train, X_train, Y_test, X_test, M, clf):\n",
    "    n_train, n_test = len(X_train), len(X_test)\n",
    "    # Initialize weights\n",
    "    w = np.ones(n_train) / n_train\n",
    "    pred_train, pred_test = [np.zeros(n_train), np.zeros(n_test)]\n",
    "    \n",
    "    for i in range(M):\n",
    "        # Fit a classifier with the specific weights\n",
    "        clf.fit(X_train, Y_train, sample_weight = w)\n",
    "        pred_train_i = clf.predict(X_train)\n",
    "        pred_test_i = clf.predict(X_test)\n",
    "        # Indicator function\n",
    "        miss = [int(x) for x in (pred_train_i != Y_train)]\n",
    "        # Equivalent with 1/-1 to update weights\n",
    "        miss2 = [x if x==1 else -1 for x in miss]\n",
    "        # Error\n",
    "        err_m = np.dot(w,miss) / sum(w)\n",
    "        # Alpha\n",
    "        alpha_m = 0.5 * np.log( (1 - err_m) / float(err_m))\n",
    "        # New weights\n",
    "        w = np.multiply(w, np.exp([float(x) * alpha_m for x in miss2]))\n",
    "        # Add to prediction\n",
    "        pred_train = [sum(x) for x in zip(pred_train, \n",
    "                                          [x * alpha_m for x in pred_train_i])]\n",
    "        pred_test = [sum(x) for x in zip(pred_test, \n",
    "                                         [x * alpha_m for x in pred_test_i])]\n",
    "    \n",
    "    pred_train, pred_test = np.sign(pred_train), np.sign(pred_test)\n",
    "    # Return error rate in train and test set\n",
    "    return get_error_rate(pred_train, Y_train), \\\n",
    "           get_error_rate(pred_test, Y_test)"
   ]
  },
  {
   "cell_type": "code",
   "execution_count": 5,
   "metadata": {},
   "outputs": [],
   "source": [
    "\"\"\" PLOT FUNCTION \"\"\"\n",
    "def plot_error_rate(er_train, er_test):\n",
    "    df_error = pd.DataFrame([er_train, er_test]).T\n",
    "    df_error.columns = ['Training', 'Test']\n",
    "    plot1 = df_error.plot(linewidth = 3, figsize = (8,6),\n",
    "            color = ['lightblue', 'darkblue'], grid = True)\n",
    "    plot1.set_xlabel('Number of iterations', fontsize = 12)\n",
    "    plot1.set_xticklabels(range(0,450,50))\n",
    "    plot1.set_ylabel('Error rate', fontsize = 12)\n",
    "    plot1.set_title('Error rate vs number of iterations', fontsize = 16)\n",
    "    plt.axhline(y=er_test[0], linewidth=1, color = 'red', ls = 'dashed')\n"
   ]
  },
  {
   "cell_type": "code",
   "execution_count": 6,
   "metadata": {},
   "outputs": [
    {
     "data": {
      "text/html": [
       "<div>\n",
       "<style scoped>\n",
       "    .dataframe tbody tr th:only-of-type {\n",
       "        vertical-align: middle;\n",
       "    }\n",
       "\n",
       "    .dataframe tbody tr th {\n",
       "        vertical-align: top;\n",
       "    }\n",
       "\n",
       "    .dataframe thead th {\n",
       "        text-align: right;\n",
       "    }\n",
       "</style>\n",
       "<table border=\"1\" class=\"dataframe\">\n",
       "  <thead>\n",
       "    <tr style=\"text-align: right;\">\n",
       "      <th></th>\n",
       "      <th>0</th>\n",
       "      <th>1</th>\n",
       "      <th>2</th>\n",
       "      <th>3</th>\n",
       "      <th>4</th>\n",
       "      <th>5</th>\n",
       "      <th>6</th>\n",
       "      <th>7</th>\n",
       "      <th>8</th>\n",
       "      <th>9</th>\n",
       "      <th>Y</th>\n",
       "    </tr>\n",
       "  </thead>\n",
       "  <tbody>\n",
       "    <tr>\n",
       "      <th>8328</th>\n",
       "      <td>-2.291989</td>\n",
       "      <td>-0.818228</td>\n",
       "      <td>-0.250129</td>\n",
       "      <td>1.074255</td>\n",
       "      <td>0.755179</td>\n",
       "      <td>-0.508539</td>\n",
       "      <td>1.399699</td>\n",
       "      <td>-0.133303</td>\n",
       "      <td>-0.295135</td>\n",
       "      <td>-1.393571</td>\n",
       "      <td>1.0</td>\n",
       "    </tr>\n",
       "    <tr>\n",
       "      <th>9446</th>\n",
       "      <td>0.106802</td>\n",
       "      <td>0.957597</td>\n",
       "      <td>-1.030665</td>\n",
       "      <td>0.506449</td>\n",
       "      <td>1.173079</td>\n",
       "      <td>0.390962</td>\n",
       "      <td>1.587478</td>\n",
       "      <td>0.305975</td>\n",
       "      <td>-1.381199</td>\n",
       "      <td>0.600528</td>\n",
       "      <td>-1.0</td>\n",
       "    </tr>\n",
       "    <tr>\n",
       "      <th>8126</th>\n",
       "      <td>-1.196890</td>\n",
       "      <td>-0.712684</td>\n",
       "      <td>-0.542550</td>\n",
       "      <td>0.435575</td>\n",
       "      <td>-0.401335</td>\n",
       "      <td>1.722594</td>\n",
       "      <td>-1.391858</td>\n",
       "      <td>0.070377</td>\n",
       "      <td>-0.482903</td>\n",
       "      <td>0.085640</td>\n",
       "      <td>-1.0</td>\n",
       "    </tr>\n",
       "    <tr>\n",
       "      <th>8824</th>\n",
       "      <td>0.729155</td>\n",
       "      <td>0.862566</td>\n",
       "      <td>-0.827492</td>\n",
       "      <td>1.432451</td>\n",
       "      <td>-1.750154</td>\n",
       "      <td>0.257248</td>\n",
       "      <td>-0.459307</td>\n",
       "      <td>-2.308490</td>\n",
       "      <td>-0.573950</td>\n",
       "      <td>-0.334493</td>\n",
       "      <td>1.0</td>\n",
       "    </tr>\n",
       "    <tr>\n",
       "      <th>4372</th>\n",
       "      <td>-2.105306</td>\n",
       "      <td>2.162339</td>\n",
       "      <td>-0.413778</td>\n",
       "      <td>0.659430</td>\n",
       "      <td>0.611015</td>\n",
       "      <td>0.254253</td>\n",
       "      <td>-0.350797</td>\n",
       "      <td>-0.243703</td>\n",
       "      <td>-0.986165</td>\n",
       "      <td>-0.461223</td>\n",
       "      <td>1.0</td>\n",
       "    </tr>\n",
       "  </tbody>\n",
       "</table>\n",
       "</div>"
      ],
      "text/plain": [
       "             0         1         2         3         4         5         6  \\\n",
       "8328 -2.291989 -0.818228 -0.250129  1.074255  0.755179 -0.508539  1.399699   \n",
       "9446  0.106802  0.957597 -1.030665  0.506449  1.173079  0.390962  1.587478   \n",
       "8126 -1.196890 -0.712684 -0.542550  0.435575 -0.401335  1.722594 -1.391858   \n",
       "8824  0.729155  0.862566 -0.827492  1.432451 -1.750154  0.257248 -0.459307   \n",
       "4372 -2.105306  2.162339 -0.413778  0.659430  0.611015  0.254253 -0.350797   \n",
       "\n",
       "             7         8         9    Y  \n",
       "8328 -0.133303 -0.295135 -1.393571  1.0  \n",
       "9446  0.305975 -1.381199  0.600528 -1.0  \n",
       "8126  0.070377 -0.482903  0.085640 -1.0  \n",
       "8824 -2.308490 -0.573950 -0.334493  1.0  \n",
       "4372 -0.243703 -0.986165 -0.461223  1.0  "
      ]
     },
     "execution_count": 6,
     "metadata": {},
     "output_type": "execute_result"
    }
   ],
   "source": [
    "# Read data\n",
    "x, y = make_hastie_10_2()\n",
    "#x, y = make_gaussian_quantiles()\n",
    "\n",
    "df = pd.DataFrame(x)\n",
    "df['Y'] = y\n",
    "\n",
    "# Split into training and test set\n",
    "train, test = train_test_split(df, test_size = 0.2)\n",
    "X_train, Y_train = train.iloc[:,:-1], train.iloc[:,-1]\n",
    "X_test, Y_test = test.iloc[:,:-1], test.iloc[:,-1]\n",
    "\n",
    "train.head()  "
   ]
  },
  {
   "cell_type": "code",
   "execution_count": 7,
   "metadata": {},
   "outputs": [],
   "source": [
    "# Fit a simple decision tree first\n",
    "clf_tree = DecisionTreeClassifier(max_depth = 1, random_state = 1)\n",
    "er_tree = generic_clf(Y_train, X_train, Y_test, X_test, clf_tree)"
   ]
  },
  {
   "cell_type": "code",
   "execution_count": 8,
   "metadata": {},
   "outputs": [
    {
     "data": {
      "text/plain": [
       "DecisionTreeClassifier(class_weight=None, criterion='gini', max_depth=1,\n",
       "            max_features=None, max_leaf_nodes=None,\n",
       "            min_impurity_decrease=0.0, min_impurity_split=None,\n",
       "            min_samples_leaf=1, min_samples_split=2,\n",
       "            min_weight_fraction_leaf=0.0, presort=False, random_state=1,\n",
       "            splitter='best')"
      ]
     },
     "execution_count": 8,
     "metadata": {},
     "output_type": "execute_result"
    }
   ],
   "source": [
    "classifier = clf_tree\n",
    "classifier.fit(X_train, Y_train)"
   ]
  },
  {
   "cell_type": "code",
   "execution_count": 9,
   "metadata": {},
   "outputs": [
    {
     "name": "stdout",
     "output_type": "stream",
     "text": [
      "Classification report for classifier DecisionTreeClassifier(class_weight=None, criterion='gini', max_depth=1,\n",
      "            max_features=None, max_leaf_nodes=None,\n",
      "            min_impurity_decrease=0.0, min_impurity_split=None,\n",
      "            min_samples_leaf=1, min_samples_split=2,\n",
      "            min_weight_fraction_leaf=0.0, presort=False, random_state=1,\n",
      "            splitter='best'):\n",
      "             precision    recall  f1-score   support\n",
      "\n",
      "       -1.0       0.55      0.94      0.69      1255\n",
      "        1.0       0.70      0.15      0.25      1145\n",
      "\n",
      "avg / total       0.62      0.56      0.48      2400\n",
      "\n",
      "\n"
     ]
    }
   ],
   "source": [
    "expected = Y_test\n",
    "predicted = classifier.predict(X_test)\n",
    "print(\"Classification report for classifier %s:\\n%s\\n\"\n",
    "      % (classifier, metrics.classification_report(expected, predicted)))"
   ]
  },
  {
   "cell_type": "code",
   "execution_count": 10,
   "metadata": {},
   "outputs": [
    {
     "data": {
      "image/png": "[encoded data removed]",
      "text/plain": [
       "<Figure size 576x432 with 1 Axes>"
      ]
     },
     "metadata": {},
     "output_type": "display_data"
    }
   ],
   "source": [
    "# Fit Adaboost classifier using a decision tree as base estimator\n",
    "# Test with different number of iterations\n",
    "er_train, er_test = [er_tree[0]], [er_tree[1]]\n",
    "x_range = range(10, 410, 20)\n",
    "for i in x_range:    \n",
    "    temp = adaboost_clf(Y_train, X_train, Y_test, X_test, i, clf_tree)\n",
    "    er_train.append(temp[0])\n",
    "    er_test.append(temp[1])\n",
    "    \n",
    "    # Compare error rate vs number of iterations\n",
    "plot_error_rate(er_train, er_test)"
   ]
  },
  {
   "cell_type": "code",
   "execution_count": 11,
   "metadata": {},
   "outputs": [
    {
     "data": {
      "text/plain": [
       "SVC(C=1.0, cache_size=200, class_weight=None, coef0=0.0,\n",
       "  decision_function_shape='ovr', degree=3, gamma='auto', kernel='rbf',\n",
       "  max_iter=-1, probability=False, random_state=None, shrinking=True,\n",
       "  tol=0.001, verbose=False)"
      ]
     },
     "execution_count": 11,
     "metadata": {},
     "output_type": "execute_result"
    }
   ],
   "source": [
    "#standard suport vector machine\n",
    "\n",
    "classifier = svm.SVC()\n",
    "classifier.fit(X_train, Y_train)\n"
   ]
  },
  {
   "cell_type": "code",
   "execution_count": 12,
   "metadata": {},
   "outputs": [
    {
     "name": "stdout",
     "output_type": "stream",
     "text": [
      "Classification report for classifier SVC(C=1.0, cache_size=200, class_weight=None, coef0=0.0,\n",
      "  decision_function_shape='ovr', degree=3, gamma='auto', kernel='rbf',\n",
      "  max_iter=-1, probability=False, random_state=None, shrinking=True,\n",
      "  tol=0.001, verbose=False):\n",
      "             precision    recall  f1-score   support\n",
      "\n",
      "       -1.0       0.97      0.99      0.98      1255\n",
      "        1.0       0.99      0.97      0.98      1145\n",
      "\n",
      "avg / total       0.98      0.98      0.98      2400\n",
      "\n",
      "\n"
     ]
    }
   ],
   "source": [
    "expected = Y_test\n",
    "predicted = classifier.predict(X_test)\n",
    "print(\"Classification report for classifier %s:\\n%s\\n\"\n",
    "      % (classifier, metrics.classification_report(expected, predicted)))"
   ]
  }
 ],
 "metadata": {
  "kernelspec": {
   "display_name": "Python 3",
   "language": "python",
   "name": "python3"
  },
  "language_info": {
   "codemirror_mode": {
    "name": "ipython",
    "version": 3
   },
   "file_extension": ".py",
   "mimetype": "text/x-python",
   "name": "python",
   "nbconvert_exporter": "python",
   "pygments_lexer": "ipython3",
   "version": "3.6.5"
  }
 },
 "nbformat": 4,
 "nbformat_minor": 2
}
